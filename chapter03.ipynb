{
 "cells": [
  {
   "cell_type": "markdown",
   "metadata": {},
   "source": [
    "# 第3章: 正規表現\n",
    "Wikipediaの記事を以下のフォーマットで書き出したファイルjawiki-country.json.gzがある．\n",
    "1行に1記事の情報がJSON形式で格納される\n",
    "各行には記事名が\"title\"キーに，記事本文が\"text\"キーの辞書オブジェクトに格納され，そのオブジェクトがJSON形式で書き出される\n",
    "ファイル全体はgzipで圧縮される\n",
    "以下の処理を行うプログラムを作成せよ．"
   ]
  },
  {
   "cell_type": "markdown",
   "metadata": {},
   "source": [
    "##### 20. JSONデータの読み込み\n",
    "Wikipedia記事のJSONファイルを読み込み，「イギリス」に関する記事本文を表示せよ．問題21-29では，ここで抽出した記事本文に対して実行せよ．"
   ]
  },
  {
   "cell_type": "code",
   "execution_count": 1,
   "metadata": {},
   "outputs": [],
   "source": [
    "import json\n",
    "\n",
    "contory_json_data = \"\"\n",
    "with open(\"jawiki-country.json\", \"r\", encoding=\"utf-8\") as contory_json_file:\n",
    "    for line in contory_json_file:\n",
    "        json_line = json.loads(line)\n",
    "        if json_line[\"title\"] == u\"イギリス\" :\n",
    "            contory_json_data = json_line[\"text\"]\n",
    "            break;"
   ]
  },
  {
   "cell_type": "markdown",
   "metadata": {},
   "source": [
    "##### 21. カテゴリ名を含む行を抽出\n",
    "記事中でカテゴリ名を宣言している行を抽出せよ．"
   ]
  },
  {
   "cell_type": "code",
   "execution_count": 2,
   "metadata": {},
   "outputs": [],
   "source": [
    "import re\n",
    "\n",
    "regex_category_line = '\\[\\[Category:[^\\]]+\\]\\]'\n",
    "category_list = re.findall(regex_category_line, contory_json_data)\n",
    "#print(category_list)"
   ]
  },
  {
   "cell_type": "markdown",
   "metadata": {},
   "source": [
    "##### 22. カテゴリ名の抽出\n",
    "記事のカテゴリ名を（行単位ではなく名前で）抽出せよ．"
   ]
  },
  {
   "cell_type": "code",
   "execution_count": 3,
   "metadata": {},
   "outputs": [],
   "source": [
    "regex_category_name = '\\[\\[Category:([^\\]]+)\\]\\]'\n",
    "category_name_list = re.findall(regex_category_name, contory_json_data)\n",
    "#print(category_name_list)"
   ]
  },
  {
   "cell_type": "markdown",
   "metadata": {},
   "source": [
    "##### 23. セクション構造\n",
    "記事中に含まれるセクション名とそのレベル（例えば\"== セクション名 ==\"なら1）を表示せよ．"
   ]
  },
  {
   "cell_type": "code",
   "execution_count": 4,
   "metadata": {
    "scrolled": true
   },
   "outputs": [],
   "source": [
    "regex_session = '\\n(={2,5}[^=]+={2,5})\\n'\n",
    "session_list = re.findall(regex_session, contory_json_data)\n",
    "\n",
    "session_level = {4: 1, 6: 2, 8: 3, 10: 4}\n",
    "\n",
    "session_level_list = list()\n",
    "for session in session_list:\n",
    "    level = session_level[session.count(\"=\")]\n",
    "    session_level_list.append(\"{}.{}\".format(str(level).rjust(level,' '), session.replace(\"=\", \"\")))\n",
    "\n",
    "#print(session_level_list)"
   ]
  },
  {
   "cell_type": "markdown",
   "metadata": {},
   "source": [
    "##### 24. ファイル参照の抽出\n",
    "記事から参照されているメディアファイルをすべて抜き出せ．"
   ]
  },
  {
   "cell_type": "code",
   "execution_count": 5,
   "metadata": {},
   "outputs": [],
   "source": [
    "regex_file_name = '\\[*[ファイル,File]:([^\\|]+)'\n",
    "file_name_list = re.findall(regex_file_name, contory_json_data)\n",
    "#print(file_name_list)"
   ]
  },
  {
   "cell_type": "markdown",
   "metadata": {},
   "source": [
    "##### 25. テンプレートの抽出\n",
    "記事中に含まれる「基礎情報」テンプレートのフィールド名と値を抽出し，辞書オブジェクトとして格納せよ．\n",
    "##### 26. 強調マークアップの除去\n",
    "25の処理時に，テンプレートの値からMediaWikiの強調マークアップ（弱い強調，強調，強い強調のすべて）を除去してテキストに変換せよ（参考: マークアップ早見表）．\n",
    "##### 27. 内部リンクの除去\n",
    "26の処理に加えて，テンプレートの値からMediaWikiの内部リンクマークアップを除去し，テキストに変換せよ（参考: マークアップ早見表）．\n",
    "##### 28. MediaWikiマークアップの除去\n",
    "27の処理に加えて，テンプレートの値からMediaWikiマークアップを可能な限り除去し，国の基本情報を整形せよ．"
   ]
  },
  {
   "cell_type": "code",
   "execution_count": 6,
   "metadata": {
    "scrolled": true
   },
   "outputs": [],
   "source": [
    "regex_template = '\\{\\{基礎情報(.+)\\n\\}\\}\\n'\n",
    "template_list = re.findall(regex_template, contory_json_data, flags=(re.MULTILINE | re.DOTALL))\n",
    "template_list = template_list[0].split('\\n|')\n",
    "\n",
    "template_dict = {}\n",
    "for line in template_list:\n",
    "    temp_list = line.split(\" = \")\n",
    "    if len(temp_list) > 1:\n",
    "        # 26,27,28\n",
    "        template_dict[temp_list[0]] = re.sub(\"\\'{2,5}|\\[\\[|\\]\\]|<.+>\",\"\",temp_list[1])\n",
    "\n",
    "#print(template_dict)"
   ]
  },
  {
   "cell_type": "markdown",
   "metadata": {},
   "source": [
    "##### 29. 国旗画像のURLを取得する\n",
    "テンプレートの内容を利用し，国旗画像のURLを取得せよ．（ヒント: MediaWiki APIのimageinfoを呼び出して，ファイル参照をURLに変換すればよい）"
   ]
  },
  {
   "cell_type": "code",
   "execution_count": 7,
   "metadata": {},
   "outputs": [
    {
     "name": "stdout",
     "output_type": "stream",
     "text": [
      "https://upload.wikimedia.org/wikipedia/commons/a/ae/Flag_of_the_United_Kingdom.svg\n"
     ]
    }
   ],
   "source": [
    "import urllib.parse\n",
    "import urllib.request\n",
    "\n",
    "file_name = template_dict[\"国旗画像\"]\n",
    "url = 'https://www.mediawiki.org/w/api.php?' \\\n",
    "    + 'action=query' \\\n",
    "    + '&titles=File:' + urllib.parse.quote(file_name) \\\n",
    "    + '&format=json' \\\n",
    "    + '&prop=imageinfo' \\\n",
    "    + '&iiprop=url'\n",
    "\n",
    "req = urllib.request.Request(url, headers={\"User-Agent\": \"Mozilla/5.0 (X11; U; Linux i686) Gecko/20071127 Firefox/2.0.0.11\"})\n",
    "rep_json_data = json.loads(urllib.request.urlopen(req).read().decode())\n",
    "flag_url = rep_json_data['query']['pages']['-1']['imageinfo'][0]['url']\n",
    "\n",
    "print(flag_url)"
   ]
  }
 ],
 "metadata": {
  "kernelspec": {
   "display_name": "Python 3",
   "language": "python",
   "name": "python3"
  },
  "language_info": {
   "codemirror_mode": {
    "name": "ipython",
    "version": 3
   },
   "file_extension": ".py",
   "mimetype": "text/x-python",
   "name": "python",
   "nbconvert_exporter": "python",
   "pygments_lexer": "ipython3",
   "version": "3.6.6"
  }
 },
 "nbformat": 4,
 "nbformat_minor": 2
}
