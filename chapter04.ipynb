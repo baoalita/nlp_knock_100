{
 "cells": [
  {
   "cell_type": "markdown",
   "metadata": {},
   "source": [
    "# 第4章: 形態素解析\n",
    "夏目漱石の小説『吾輩は猫である』の文章（neko.txt）をMeCabを使って形態素解析し，その結果をneko.txt.mecabというファイルに保存せよ．このファイルを用いて，以下の問に対応するプログラムを実装せよ．\n",
    "なお，問題37, 38, 39はmatplotlibもしくはGnuplotを用いるとよい．"
   ]
  },
  {
   "cell_type": "code",
   "execution_count": 1,
   "metadata": {},
   "outputs": [],
   "source": [
    "import MeCab\n",
    "\n",
    "_m = MeCab.Tagger()\n",
    "with open(\"neko.txt\", encoding='utf-8') as input_file:\n",
    "    with open(\"neko.txt.mecab\", mode='w', encoding='utf-8') as output_file:\n",
    "        output_file.write(_m.parse(input_file.read()))"
   ]
  },
  {
   "cell_type": "markdown",
   "metadata": {},
   "source": [
    "##### 30. 形態素解析結果の読み込み\n",
    "形態素解析結果（neko.txt.mecab）を読み込むプログラムを実装せよ．ただし，各形態素は表層形（surface），基本形（base），品詞（pos），品詞細分類1（pos1）をキーとするマッピング型に格納し，1文を形態素（マッピング型）のリストとして表現せよ．第4章の残りの問題では，ここで作ったプログラムを活用せよ．"
   ]
  },
  {
   "cell_type": "code",
   "execution_count": 2,
   "metadata": {},
   "outputs": [],
   "source": [
    "morph_data = list()\n",
    "with open(\"neko.txt.mecab\", mode='r', encoding='utf-8') as input_file:\n",
    "    for line in input_file:\n",
    "        features = line.split(\"\\t\")\n",
    "        if len(features) == 2:\n",
    "            sub_features = features[1].split(\",\")\n",
    "            dic = {'surface': features[0], 'base': sub_features[6], 'pos': sub_features[0], 'pos1': sub_features[1]}\n",
    "        morph_data.append(dic)"
   ]
  },
  {
   "cell_type": "markdown",
   "metadata": {},
   "source": [
    "##### 31. 動詞\n",
    "動詞の表層形をすべて抽出せよ．"
   ]
  },
  {
   "cell_type": "code",
   "execution_count": 3,
   "metadata": {},
   "outputs": [],
   "source": [
    "verbs_surface_data = [verb[\"surface\"] for verb in morph_data if verb[\"pos\"] == \"動詞\"]"
   ]
  },
  {
   "cell_type": "markdown",
   "metadata": {},
   "source": [
    "##### 32. 動詞の原形\n",
    "動詞の原形をすべて抽出せよ．"
   ]
  },
  {
   "cell_type": "code",
   "execution_count": 4,
   "metadata": {},
   "outputs": [],
   "source": [
    "verbs_base_data = [verb[\"base\"] for verb in morph_data if verb[\"pos\"] == \"動詞\"]"
   ]
  },
  {
   "cell_type": "markdown",
   "metadata": {},
   "source": [
    "##### 33. サ変名詞\n",
    "サ変接続の名詞をすべて抽出せよ．"
   ]
  },
  {
   "cell_type": "code",
   "execution_count": 5,
   "metadata": {},
   "outputs": [],
   "source": [
    "conj_sa_data = [verb[\"surface\"] for verb in morph_data if verb[\"pos1\"] == \"サ変接続\"]"
   ]
  },
  {
   "cell_type": "markdown",
   "metadata": {},
   "source": [
    "##### 34. 「AのB」\n",
    "2つの名詞が「の」で連結されている名詞句を抽出せよ．"
   ]
  },
  {
   "cell_type": "code",
   "execution_count": 6,
   "metadata": {},
   "outputs": [],
   "source": [
    "rentai_data = [morph_data[i-1][\"surface\"] + morph_data[i][\"surface\"] + morph_data[i+1][\"surface\"] for i in range(len(morph_data)) if morph_data[i][\"pos1\"] == \"連体化\"]"
   ]
  },
  {
   "cell_type": "markdown",
   "metadata": {},
   "source": [
    "##### 35. 名詞の連接\n",
    "名詞の連接（連続して出現する名詞）を最長一致で抽出せよ．"
   ]
  },
  {
   "cell_type": "code",
   "execution_count": 7,
   "metadata": {},
   "outputs": [],
   "source": [
    "nouns = \"\"\n",
    "count = 0\n",
    "nouns_list = list()\n",
    "for morph in morph_data:\n",
    "    if morph['pos'] == \"名詞\":\n",
    "        nouns = nouns + morph['surface']\n",
    "        count = count + 1\n",
    "    else:\n",
    "        if count > 0:\n",
    "            if count > 1:\n",
    "                nouns_list.append(nouns)\n",
    "            nouns = \"\"\n",
    "            count = 0"
   ]
  },
  {
   "cell_type": "markdown",
   "metadata": {},
   "source": [
    "##### 36. 単語の出現頻度\n",
    "文章中に出現する単語とその出現頻度を求め，出現頻度の高い順に並べよ．"
   ]
  },
  {
   "cell_type": "code",
   "execution_count": 8,
   "metadata": {},
   "outputs": [],
   "source": [
    "morph_sorted_dict = dict()\n",
    "for morph in morph_data:\n",
    "    if morph[\"base\"] in morph_sorted_dict.keys():\n",
    "        morph_sorted_dict[morph[\"base\"]] += 1\n",
    "    else:\n",
    "        morph_sorted_dict[morph[\"base\"]] = 1\n",
    "\n",
    "morph_sorted_list = sorted(morph_sorted_dict.items(), key=lambda x: x[1], reverse=True)"
   ]
  },
  {
   "cell_type": "markdown",
   "metadata": {},
   "source": [
    "##### ※ グラフを描くための準備"
   ]
  },
  {
   "cell_type": "code",
   "execution_count": 9,
   "metadata": {},
   "outputs": [],
   "source": [
    "from matplotlib import pyplot as plt\n",
    "\n",
    "# 使えるフォントを確認する時\n",
    "# import matplotlib.font_manager\n",
    "# print([f.name for f in matplotlib.font_manager.fontManager.ttflist])\n",
    "\n",
    "# フォントを設定する\n",
    "plt.rcParams['font.family'] = 'HGSeikaishotaiPRO'"
   ]
  },
  {
   "cell_type": "markdown",
   "metadata": {},
   "source": [
    "##### 37. 頻度上位10語\n",
    "出現頻度が高い10語とその出現頻度をグラフ（例えば棒グラフなど）で表示せよ．"
   ]
  },
  {
   "cell_type": "code",
   "execution_count": 10,
   "metadata": {},
   "outputs": [
    {
     "data": {
      "image/png": "[encoded data removed]",
      "text/plain": [
       "<Figure size 432x288 with 1 Axes>"
      ]
     },
     "metadata": {
      "needs_background": "light"
     },
     "output_type": "display_data"
    }
   ],
   "source": [
    "x = list()\n",
    "y = list()\n",
    "for word in morph_sorted_list[0:10]:\n",
    "    x.append(word[0])\n",
    "    y.append(word[1])\n",
    "\n",
    "plt.bar(x, y)\n",
    "plt.xlabel(\"単語\")\n",
    "plt.ylabel(\"頻度\")\n",
    "plt.show()"
   ]
  },
  {
   "cell_type": "markdown",
   "metadata": {},
   "source": [
    "##### 38. ヒストグラム\n",
    "単語の出現頻度のヒストグラム（横軸に出現頻度，縦軸に出現頻度をとる単語の種類数を棒グラフで表したもの）を描け．"
   ]
  },
  {
   "cell_type": "code",
   "execution_count": 11,
   "metadata": {},
   "outputs": [
    {
     "data": {
      "image/png": "[encoded data removed]",
      "text/plain": [
       "<Figure size 432x288 with 1 Axes>"
      ]
     },
     "metadata": {
      "needs_background": "light"
     },
     "output_type": "display_data"
    }
   ],
   "source": [
    "graph_data = [morph[1] for morph in morph_sorted_list]\n",
    "\n",
    "plt.hist(graph_data, bins=20,  range=(0, 20))\n",
    "plt.xlabel('出現頻度')\n",
    "plt.ylabel('単語種類数')\n",
    "plt.show()"
   ]
  },
  {
   "cell_type": "markdown",
   "metadata": {},
   "source": [
    "##### 39. Zipfの法則\n",
    "単語の出現頻度順位を横軸，その出現頻度を縦軸として，両対数グラフをプロットせよ．"
   ]
  },
  {
   "cell_type": "code",
   "execution_count": 12,
   "metadata": {},
   "outputs": [
    {
     "data": {
      "image/png": "[encoded data removed]",
      "text/plain": [
       "<Figure size 432x288 with 1 Axes>"
      ]
     },
     "metadata": {
      "needs_background": "light"
     },
     "output_type": "display_data"
    }
   ],
   "source": [
    "plt.xscale('log')\n",
    "plt.yscale('log')\n",
    "plt.plot(graph_data)\n",
    "plt.xlabel('出現度順位')\n",
    "plt.ylabel('出現頻度')\n",
    "plt.show()"
   ]
  },
  {
   "cell_type": "code",
   "execution_count": null,
   "metadata": {},
   "outputs": [],
   "source": []
  }
 ],
 "metadata": {
  "kernelspec": {
   "display_name": "Python 3",
   "language": "python",
   "name": "python3"
  },
  "language_info": {
   "codemirror_mode": {
    "name": "ipython",
    "version": 3
   },
   "file_extension": ".py",
   "mimetype": "text/x-python",
   "name": "python",
   "nbconvert_exporter": "python",
   "pygments_lexer": "ipython3",
   "version": "3.6.6"
  }
 },
 "nbformat": 4,
 "nbformat_minor": 2
}
