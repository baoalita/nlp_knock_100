{
 "cells": [
  {
   "cell_type": "markdown",
   "metadata": {},
   "source": [
    "# 第1章: 準備運動"
   ]
  },
  {
   "cell_type": "markdown",
   "metadata": {},
   "source": [
    "00. 文字列の逆順\n",
    "文字列\"stressed\"の文字を逆に（末尾から先頭に向かって）並べた文字列を得よ．"
   ]
  },
  {
   "cell_type": "code",
   "execution_count": 1,
   "metadata": {},
   "outputs": [
    {
     "name": "stdout",
     "output_type": "stream",
     "text": [
      "desserts\n"
     ]
    }
   ],
   "source": [
    "text = \"stressed\"\n",
    "print(text[::-1])"
   ]
  },
  {
   "cell_type": "markdown",
   "metadata": {},
   "source": [
    "01. 「パタトクカシーー」\n",
    "「パタトクカシーー」という文字列の1,3,5,7文字目を取り出して連結した文字列を得よ．"
   ]
  },
  {
   "cell_type": "code",
   "execution_count": 2,
   "metadata": {},
   "outputs": [
    {
     "name": "stdout",
     "output_type": "stream",
     "text": [
      "パトカー\n"
     ]
    }
   ],
   "source": [
    "text = \"パタトクカシーー\"\n",
    "print(text[::2])"
   ]
  },
  {
   "cell_type": "markdown",
   "metadata": {},
   "source": [
    "02. 「パトカー」＋「タクシー」＝「パタトクカシーー」\n",
    "「パトカー」＋「タクシー」の文字を先頭から交互に連結して文字列「パタトクカシーー」を得よ．"
   ]
  },
  {
   "cell_type": "code",
   "execution_count": 3,
   "metadata": {},
   "outputs": [
    {
     "name": "stdout",
     "output_type": "stream",
     "text": [
      "パタトクカシーー\n"
     ]
    }
   ],
   "source": [
    "str1 = u'パトカー'\n",
    "str2 = u'タクシー'\n",
    "str3 = u''\n",
    "\n",
    "str3 = ''.join([a + b for a,b in zip(str1,str2)])\n",
    "\n",
    "print(str3)"
   ]
  },
  {
   "cell_type": "markdown",
   "metadata": {},
   "source": [
    "03. 円周率\n",
    "\"Now I need a drink, alcoholic of course, after the heavy lectures involving quantum mechanics.\"という文を単語に分解し，各単語の（アルファベットの）文字数を先頭から出現順に並べたリストを作成せよ．"
   ]
  },
  {
   "cell_type": "code",
   "execution_count": 4,
   "metadata": {},
   "outputs": [
    {
     "name": "stdout",
     "output_type": "stream",
     "text": [
      "[3, 1, 4, 1, 5, 9, 2, 6, 5, 3, 5, 8, 9, 7, 9]\n"
     ]
    }
   ],
   "source": [
    "text = 'Now I need a drink, alcoholic of course, after the heavy lectures involving quantum mechanics.'\n",
    "str_list = text.replace('.','').replace(',','').split(' ')\n",
    "res_list = list()\n",
    "\n",
    "for word in str_list:\n",
    "    res_list.append(len(word))\n",
    "\n",
    "print(res_list)"
   ]
  },
  {
   "cell_type": "markdown",
   "metadata": {},
   "source": [
    "04. 元素記号\n",
    "\"Hi He Lied Because Boron Could Not Oxidize Fluorine. New Nations Might Also Sign Peace Security Clause. Arthur King Can.\"という文を単語に分解し，1, 5, 6, 7, 8, 9, 15, 16, 19番目の単語は先頭の1文字，それ以外の単語は先頭に2文字を取り出し，取り出した文字列から単語の位置（先頭から何番目の単語か）への連想配列（辞書型もしくはマップ型）を作成せよ．"
   ]
  },
  {
   "cell_type": "code",
   "execution_count": 5,
   "metadata": {},
   "outputs": [
    {
     "name": "stdout",
     "output_type": "stream",
     "text": [
      "{'H': 0, 'He': 1, 'Li': 2, 'Be': 3, 'B': 4, 'C': 5, 'N': 6, 'O': 7, 'F': 8, 'Ne': 9, 'Na': 10, 'Mi': 11, 'Al': 12, 'Si': 13, 'P': 14, 'S': 15, 'Cl': 16, 'Ar': 17, 'K': 18, 'Ca': 19}\n"
     ]
    }
   ],
   "source": [
    "text = 'Hi He Lied Because Boron Could Not Oxidize Fluorine. New Nations Might Also Sign Peace Security Clause. Arthur King Can.'\n",
    "str_list = text.replace('.','').replace(',','').split(' ')\n",
    "\n",
    "ids = [1, 5, 6, 7, 8, 9, 15, 16, 19]\n",
    "str_dict = dict()\n",
    "\n",
    "for i in range(len(str_list)):\n",
    "    if i+1 in ids:\n",
    "        str_dict[str_list[i][:1]] = i\n",
    "    else:\n",
    "        str_dict[str_list[i][:2]] = i\n",
    "\n",
    "print(str_dict)"
   ]
  },
  {
   "cell_type": "markdown",
   "metadata": {},
   "source": [
    "05. n-gram\n",
    "与えられたシーケンス（文字列やリストなど）からn-gramを作る関数を作成せよ．この関数を用い，\"I am an NLPer\"という文から単語bi-gram，文字bi-gramを得よ．"
   ]
  },
  {
   "cell_type": "code",
   "execution_count": 6,
   "metadata": {},
   "outputs": [
    {
     "name": "stdout",
     "output_type": "stream",
     "text": [
      "[['$', 'I'], ['I', ' '], [' ', 'a'], ['a', 'm'], ['m', ' '], [' ', 'a'], ['a', 'n'], ['n', ' '], [' ', 'N'], ['N', 'L'], ['L', 'P'], ['P', 'e'], ['e', 'r'], ['r', '$']]\n",
      "[['$', 'I'], ['I', 'am'], ['am', 'an'], ['an', 'NLPer'], ['NLPer', '$']]\n"
     ]
    }
   ],
   "source": [
    "original = \"I am an NLPer\"\n",
    "\n",
    "def ngram(input, n):\n",
    "    result = []\n",
    "    # 文字 n-gram (引数 str)\n",
    "    if type(input) is str:\n",
    "        input = list(input)\n",
    "\n",
    "    input = [\"$\"] + input + [\"$\"]\n",
    "    l = len(input)\n",
    "    for i in range(l - n + 1):\n",
    "        result.append(input[i:i+n])\n",
    "\n",
    "    return result\n",
    "\n",
    "print(ngram(original, 2))              # 文字 n-gram\n",
    "print(ngram(original.split(), 2))      # 単語 n-gram"
   ]
  },
  {
   "cell_type": "markdown",
   "metadata": {},
   "source": [
    "06. 集合\n",
    "\"paraparaparadise\"と\"paragraph\"に含まれる文字bi-gramの集合を，それぞれ, XとYとして求め，XとYの和集合，積集合，差集合を求めよ．さらに，'se'というbi-gramがXおよびYに含まれるかどうかを調べよ．"
   ]
  },
  {
   "cell_type": "code",
   "execution_count": 7,
   "metadata": {},
   "outputs": [
    {
     "name": "stdout",
     "output_type": "stream",
     "text": [
      "X: {'pa', 'ad', 'ar', 'se', 'di', 'ap', '$p', 'e$', 'is', 'ra'} ; se in X: True\n",
      "Y: {'gr', 'pa', 'h$', 'ar', 'ap', '$p', 'ag', 'ph', 'ra'} ; se in Y: False\n",
      "和集合: {'gr', 'pa', 'h$', 'ad', 'ar', 'se', 'di', 'ap', '$p', 'e$', 'is', 'ag', 'ph', 'ra'}\n",
      "積集合: {'pa', 'ar', 'ap', '$p', 'ra'}\n",
      "差集合: {'ad', 'se', 'di', 'e$', 'is'}\n"
     ]
    }
   ],
   "source": [
    "strX = \"paraparaparadise\"\n",
    "strY = \"paragraph\"\n",
    "\n",
    "X = set(''.join(temp) for temp in ngram(strX, 2))\n",
    "Y = set(''.join(temp) for temp in ngram(strY, 2))\n",
    "\n",
    "print(\"X:\", X, \"; se in X:\",{\"se\"} <= X)\n",
    "print(\"Y:\", Y, \"; se in Y:\",{\"se\"} <= Y)\n",
    "print(\"和集合:\", X.union(Y))                # X | Y\n",
    "print(\"積集合:\", X.intersection(Y))         # X & Y\n",
    "print(\"差集合:\", X.difference(Y))           # X - Y"
   ]
  },
  {
   "cell_type": "markdown",
   "metadata": {},
   "source": [
    "07. テンプレートによる文生成\n",
    "引数x, y, zを受け取り「x時のyはz」という文字列を返す関数を実装せよ．さらに，x=12, y=\"気温\", z=22.4として，実行結果を確認せよ．"
   ]
  },
  {
   "cell_type": "code",
   "execution_count": 8,
   "metadata": {},
   "outputs": [
    {
     "name": "stdout",
     "output_type": "stream",
     "text": [
      "12時の気温は22.4\n"
     ]
    }
   ],
   "source": [
    "x = 12\n",
    "y = \"気温\"\n",
    "z = 22.4\n",
    "\n",
    "print(\"{0}時の{1}は{2}\".format(x,y,z))"
   ]
  },
  {
   "cell_type": "markdown",
   "metadata": {},
   "source": [
    "08. 暗号文\n",
    "与えられた文字列の各文字を，以下の仕様で変換する関数cipherを実装せよ．\n",
    "\n",
    "英小文字ならば(219 - 文字コード)の文字に置換\n",
    "その他の文字はそのまま出力\n",
    "この関数を用い，英語のメッセージを暗号化・復号化せよ．"
   ]
  },
  {
   "cell_type": "code",
   "execution_count": 9,
   "metadata": {},
   "outputs": [
    {
     "name": "stdout",
     "output_type": "stream",
     "text": [
      "I zn z NLPvi\n",
      "I am a NLPer\n"
     ]
    }
   ],
   "source": [
    "def cipher(str):\n",
    "    return ''.join([chr(219 - ord(temp)) if temp.islower() else temp for temp in str])\n",
    "\n",
    "str = \"I am a NLPer\"\n",
    "print(cipher(str))\n",
    "print(cipher(cipher(str)))"
   ]
  },
  {
   "cell_type": "markdown",
   "metadata": {},
   "source": [
    "09. Typoglycemia\n",
    "スペースで区切られた単語列に対して，各単語の先頭と末尾の文字は残し，それ以外の文字の順序をランダムに並び替えるプログラムを作成せよ．ただし，長さが４以下の単語は並び替えないこととする．適当な英語の文（例えば\"I couldn't believe that I could actually understand what I was reading : the phenomenal power of the human mind .\"）を与え，その実行結果を確認せよ．"
   ]
  },
  {
   "cell_type": "code",
   "execution_count": 10,
   "metadata": {},
   "outputs": [
    {
     "name": "stdout",
     "output_type": "stream",
     "text": [
      "['I', \"cu'londt\", 'bevleie', 'that', 'I', 'colud', 'atallucy', 'uenasdtrnd', 'what', 'I', 'was', 'reaindg', ':', 'the', 'pneaemhonl', 'pwoer', 'of', 'the', 'hmaun', 'mind', '.']\n"
     ]
    }
   ],
   "source": [
    "import random\n",
    "str = \"I couldn't believe that I could actually understand what I was reading : the phenomenal power of the human mind .\"\n",
    "\n",
    "word_list = str.split(\" \")\n",
    "for i in range(len(word_list)):\n",
    "    if len(word_list[i]) > 4:\n",
    "        temp_list = word_list[i][1:-1]\n",
    "        word_list[i] = word_list[i][0] + \"\".join(random.sample(temp_list, len(temp_list))) + word_list[i][-1]\n",
    "\n",
    "str = \" \".join(word_list)\n",
    "print(word_list)"
   ]
  },
  {
   "cell_type": "code",
   "execution_count": null,
   "metadata": {
    "collapsed": true
   },
   "outputs": [],
   "source": []
  }
 ],
 "metadata": {
  "kernelspec": {
   "display_name": "Python 3",
   "language": "python",
   "name": "python3"
  },
  "language_info": {
   "codemirror_mode": {
    "name": "ipython",
    "version": 3
   },
   "file_extension": ".py",
   "mimetype": "text/x-python",
   "name": "python",
   "nbconvert_exporter": "python",
   "pygments_lexer": "ipython3",
   "version": "3.6.3"
  }
 },
 "nbformat": 4,
 "nbformat_minor": 2
}
